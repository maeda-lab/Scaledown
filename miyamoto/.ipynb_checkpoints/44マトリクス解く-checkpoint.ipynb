{
 "cells": [
  {
   "cell_type": "markdown",
   "metadata": {},
   "source": [
    "# ロボットマニピュレータの逆運動学を4×4マトリクスを用いて解く！！！\n",
    "\n",
    "Created by Hiroki Miyamoto \n",
    "\n",
    "Modified by Masahiro Furukawa, Aug 18, 2020"
   ]
  },
  {
   "cell_type": "code",
   "execution_count": 1,
   "metadata": {},
   "outputs": [],
   "source": [
    "#参考URL -> https://qiita.com/tibigame/items/61cecf86fc978628bfee\n",
    "#参考図書 -> ポールのロボット・マニピュレータ\n",
    "\n",
    "import numpy as np\n",
    "import sympy as sym\n",
    "sym.init_printing()\n",
    "Pi = sym.S.Pi # 円周率\n",
    "E = sym.S.Exp1 # 自然対数の底\n",
    "I = sym.S.ImaginaryUnit # 虚数単位\n",
    "\n",
    "#sympyの円周率の方を使うことをすすめる（こっちの方が量子化誤差が大きくなる．numpyも同様に大きい）\n",
    "import math\n",
    "pi = math.pi\n",
    "\n",
    "# 使用する変数の定義(小文字1文字は全てシンボルとする)\n",
    "(a,b,c,d,e,f,g,h,i,j,k,l,m,n,o,p,q,r,s,t,u,v,w,x,y,z) = sym.symbols('a b c d e f g h i j k l m n o p q r s t u v w x y z')\n",
    "#a～fは角度変数\n",
    "\n",
    "(n_x, n_y, n_z, o_x, o_y, o_z, a_x, a_y, a_z, p_x, p_y, p_z) = sym.symbols('n_x, n_y, n_z, o_x, o_y, o_z, a_x, a_y, a_z, p_x, p_y, p_z')\n"
   ]
  },
  {
   "cell_type": "code",
   "execution_count": 2,
   "metadata": {},
   "outputs": [],
   "source": [
    "#sin.cosの簡易記述用\n",
    "def S(a):\n",
    "    return sym.sin(a)\n",
    "\n",
    "def C(a):\n",
    "    return sym.cos(a)"
   ]
  },
  {
   "cell_type": "code",
   "execution_count": 3,
   "metadata": {},
   "outputs": [],
   "source": [
    "#回転・並進行列\n",
    "def rotx(a):\n",
    "    return sym.Matrix([[1, 0, 0, 0], [0, C(a), -S(a), 0], [0, S(a), C(a), 0], [0, 0, 0, 1]])\n",
    "\n",
    "def roty(a):\n",
    "    return sym.Matrix([[C(a), 0, S(a), 0], [0, 1, 0, 0], [-S(a), 0, C(a), 0], [0, 0, 0, 1]])\n",
    "\n",
    "def rotz(a):\n",
    "    return sym.Matrix([[C(a), -S(a), 0, 0], [S(a), C(a), 0, 0], [0, 0, 1, 0], [0, 0, 0, 1]])\n",
    "\n",
    "def trans(x, y, z):\n",
    "    return sym.Matrix([[1, 0, 0, x], [0, 1, 0, y], [0, 0, 1, z], [0, 0, 0, 1]])\n"
   ]
  },
  {
   "cell_type": "markdown",
   "metadata": {},
   "source": [
    "### DH法に基づく座標系間の関係表現\n",
    "\n",
    "|座標系 i|Z_i-1軸回りに角度θ_i|Z_i-1に沿って距離d_iだけ並進|回転後のX_i-1 (=X_i)に沿って長さa_iだけ並進|X_i軸周りにねじれ角α_iだけ回転|\n",
    "|-|-|-|-|-|\n",
    "|1|a|h|g|Pi/2|\n",
    "|2|b|0|0|0|(yにj)\n",
    "|3|c|0|-k|-Pi/2|(cの初期位置は-Pi/2)\n",
    "|4|d|l|0|Pi/2|\n",
    "|5|e|0|0|-Pi/2|(yにm)\n",
    "|6|f|n|0|0|\n",
    "\n",
    "座標系0→1：\n",
    "Z0軸方向にd1だけ平行移動してから、関節１の関節角度θ1だけ回転、a1=0、α1=0\n",
    "\n",
    "座標系1→2：\n",
    "X1軸方向にa2移動、関節２の角度θ2だけ回転、α2=0、d2=0\n",
    "\n",
    "座標系2→3：\n",
    "X2軸方向にa3移動、X2軸回りにα3=180度(π)回転、回転後のZ2軸方向(鉛直下向)にd3移動、θ3=0\n",
    "\n",
    "座標系3→4：\n",
    "Z0軸方向にd1だけ平行移動してから、関節１の関節角度θ1だけ回転、a1=0、α1=0\n",
    "\n",
    "座標系4→5：\n",
    "X1軸方向にa2移動、関節２の角度θ2だけ回転、α2=0、d2=0\n",
    "\n",
    "座標系5→6：\n",
    "X2軸方向にa3移動、X2軸回りにα3=180度(π)回転、回転後のZ2軸方向(鉛直下向)にd3移動、θ3=0"
   ]
  },
  {
   "cell_type": "code",
   "execution_count": 4,
   "metadata": {},
   "outputs": [
    {
     "data": {
      "text/latex": [
       "$\\displaystyle \\left[\\begin{matrix}\\cos{\\left(a \\right)} & 0 & \\sin{\\left(a \\right)} & g \\cos{\\left(a \\right)}\\\\\\sin{\\left(a \\right)} & 0 & - \\cos{\\left(a \\right)} & g \\sin{\\left(a \\right)}\\\\0 & 1 & 0 & h\\\\0 & 0 & 0 & 1\\end{matrix}\\right]$"
      ],
      "text/plain": [
       "⎡cos(a)  0  sin(a)   g⋅cos(a)⎤\n",
       "⎢                            ⎥\n",
       "⎢sin(a)  0  -cos(a)  g⋅sin(a)⎥\n",
       "⎢                            ⎥\n",
       "⎢  0     1     0        h    ⎥\n",
       "⎢                            ⎥\n",
       "⎣  0     0     0        1    ⎦"
      ]
     },
     "execution_count": 4,
     "metadata": {},
     "output_type": "execute_result"
    }
   ],
   "source": [
    "#変換行列 A1 の指定（1.モーターによる回転成分 -> 2.機構に基づく並進成分 -> 3.機構に基づく座標系の回転）\n",
    "\n",
    "A1=rotz(a)*trans(g,0,h)*rotx(Pi/2)\n",
    "sym.trigsimp(A1)"
   ]
  },
  {
   "cell_type": "code",
   "execution_count": 5,
   "metadata": {},
   "outputs": [
    {
     "data": {
      "text/latex": [
       "$\\displaystyle \\left[\\begin{matrix}\\cos{\\left(a \\right)} & \\sin{\\left(a \\right)} & 0 & - g\\\\0 & 0 & 1 & - h\\\\\\sin{\\left(a \\right)} & - \\cos{\\left(a \\right)} & 0 & 0\\\\0 & 0 & 0 & 1\\end{matrix}\\right]$"
      ],
      "text/plain": [
       "⎡cos(a)  sin(a)   0  -g⎤\n",
       "⎢                      ⎥\n",
       "⎢  0        0     1  -h⎥\n",
       "⎢                      ⎥\n",
       "⎢sin(a)  -cos(a)  0  0 ⎥\n",
       "⎢                      ⎥\n",
       "⎣  0        0     0  1 ⎦"
      ]
     },
     "execution_count": 5,
     "metadata": {},
     "output_type": "execute_result"
    }
   ],
   "source": [
    "# 逆行列  A1inv\n",
    "A1inv=rotx(-Pi/2)*trans(-g,0,-h)*rotz(-a)\n",
    "sym.trigsimp(A1inv)"
   ]
  },
  {
   "cell_type": "code",
   "execution_count": 6,
   "metadata": {},
   "outputs": [
    {
     "data": {
      "text/latex": [
       "$\\displaystyle \\left[\\begin{matrix}1 & 0 & 0 & 0\\\\0 & 1 & 0 & 0\\\\0 & 0 & 1 & 0\\\\0 & 0 & 0 & 1\\end{matrix}\\right]$"
      ],
      "text/plain": [
       "⎡1  0  0  0⎤\n",
       "⎢          ⎥\n",
       "⎢0  1  0  0⎥\n",
       "⎢          ⎥\n",
       "⎢0  0  1  0⎥\n",
       "⎢          ⎥\n",
       "⎣0  0  0  1⎦"
      ]
     },
     "execution_count": 6,
     "metadata": {},
     "output_type": "execute_result"
    }
   ],
   "source": [
    "# 逆行列をかけると単位行列になることの確認\n",
    "ret = A1inv*A1\n",
    "sym.trigsimp(ret)"
   ]
  },
  {
   "cell_type": "code",
   "execution_count": 7,
   "metadata": {},
   "outputs": [
    {
     "data": {
      "text/latex": [
       "$\\displaystyle \\left[\\begin{matrix}\\cos{\\left(b \\right)} & - \\sin{\\left(b \\right)} & 0 & - j \\sin{\\left(b \\right)}\\\\\\sin{\\left(b \\right)} & \\cos{\\left(b \\right)} & 0 & j \\cos{\\left(b \\right)}\\\\0 & 0 & 1 & 0\\\\0 & 0 & 0 & 1\\end{matrix}\\right]$"
      ],
      "text/plain": [
       "⎡cos(b)  -sin(b)  0  -j⋅sin(b)⎤\n",
       "⎢                             ⎥\n",
       "⎢sin(b)  cos(b)   0  j⋅cos(b) ⎥\n",
       "⎢                             ⎥\n",
       "⎢  0        0     1      0    ⎥\n",
       "⎢                             ⎥\n",
       "⎣  0        0     0      1    ⎦"
      ]
     },
     "execution_count": 7,
     "metadata": {},
     "output_type": "execute_result"
    }
   ],
   "source": [
    "#変換行列 A2 の指定（1.モーターによる回転成分 -> 2.機構に基づく並進成分 -> 3.機構に基づく座標系の回転）\n",
    "\n",
    "A2=rotz(b)*trans(0,j,0)\n",
    "sym.trigsimp(A2)"
   ]
  },
  {
   "cell_type": "code",
   "execution_count": 8,
   "metadata": {},
   "outputs": [
    {
     "data": {
      "text/latex": [
       "$\\displaystyle \\left[\\begin{matrix}0 & - \\sin{\\left(c \\right)} & \\cos{\\left(c \\right)} & - k \\sin{\\left(c \\right)}\\\\0 & \\cos{\\left(c \\right)} & \\sin{\\left(c \\right)} & k \\cos{\\left(c \\right)}\\\\-1 & 0 & 0 & 0\\\\0 & 0 & 0 & 1\\end{matrix}\\right]$"
      ],
      "text/plain": [
       "⎡0   -sin(c)  cos(c)  -k⋅sin(c)⎤\n",
       "⎢                              ⎥\n",
       "⎢0   cos(c)   sin(c)  k⋅cos(c) ⎥\n",
       "⎢                              ⎥\n",
       "⎢-1     0       0         0    ⎥\n",
       "⎢                              ⎥\n",
       "⎣0      0       0         1    ⎦"
      ]
     },
     "execution_count": 8,
     "metadata": {},
     "output_type": "execute_result"
    }
   ],
   "source": [
    "#変換行列 A3 の指定（1.モーターによる回転成分 -> 2.機構に基づく並進成分 -> 3.機構に基づく座標系の回転）\n",
    "\n",
    "A3=rotz(c)*trans(0,k,0)*roty(Pi/2)\n",
    "sym.trigsimp(A3)"
   ]
  },
  {
   "cell_type": "code",
   "execution_count": 9,
   "metadata": {},
   "outputs": [
    {
     "data": {
      "text/latex": [
       "$\\displaystyle \\left[\\begin{matrix}0 & - \\sin{\\left(d \\right)} & - \\cos{\\left(d \\right)} & 0\\\\0 & \\cos{\\left(d \\right)} & - \\sin{\\left(d \\right)} & 0\\\\1 & 0 & 0 & l\\\\0 & 0 & 0 & 1\\end{matrix}\\right]$"
      ],
      "text/plain": [
       "⎡0  -sin(d)  -cos(d)  0⎤\n",
       "⎢                      ⎥\n",
       "⎢0  cos(d)   -sin(d)  0⎥\n",
       "⎢                      ⎥\n",
       "⎢1     0        0     l⎥\n",
       "⎢                      ⎥\n",
       "⎣0     0        0     1⎦"
      ]
     },
     "execution_count": 9,
     "metadata": {},
     "output_type": "execute_result"
    }
   ],
   "source": [
    "#変換行列 A4 の指定（1.モーターによる回転成分 -> 2.機構に基づく並進成分 -> 3.機構に基づく座標系の回転）\n",
    "\n",
    "A4=rotz(d)*trans(0,0,l)*roty(-Pi/2)\n",
    "sym.trigsimp(A4)"
   ]
  },
  {
   "cell_type": "code",
   "execution_count": 10,
   "metadata": {},
   "outputs": [
    {
     "data": {
      "text/latex": [
       "$\\displaystyle \\left[\\begin{matrix}0 & - \\sin{\\left(e \\right)} & \\cos{\\left(e \\right)} & m \\cos{\\left(e \\right)}\\\\0 & \\cos{\\left(e \\right)} & \\sin{\\left(e \\right)} & m \\sin{\\left(e \\right)}\\\\-1 & 0 & 0 & 0\\\\0 & 0 & 0 & 1\\end{matrix}\\right]$"
      ],
      "text/plain": [
       "⎡0   -sin(e)  cos(e)  m⋅cos(e)⎤\n",
       "⎢                             ⎥\n",
       "⎢0   cos(e)   sin(e)  m⋅sin(e)⎥\n",
       "⎢                             ⎥\n",
       "⎢-1     0       0        0    ⎥\n",
       "⎢                             ⎥\n",
       "⎣0      0       0        1    ⎦"
      ]
     },
     "execution_count": 10,
     "metadata": {},
     "output_type": "execute_result"
    }
   ],
   "source": [
    "#変換行列 A5 の指定（1.モーターによる回転成分 -> 2.機構に基づく並進成分 -> 3.機構に基づく座標系の回転）\n",
    "\n",
    "A5=rotz(e)*trans(m,0,0)*roty(Pi/2)\n",
    "sym.trigsimp(A5)"
   ]
  },
  {
   "cell_type": "code",
   "execution_count": 11,
   "metadata": {},
   "outputs": [
    {
     "data": {
      "text/latex": [
       "$\\displaystyle \\left[\\begin{matrix}\\cos{\\left(f \\right)} & - \\sin{\\left(f \\right)} & 0 & 0\\\\\\sin{\\left(f \\right)} & \\cos{\\left(f \\right)} & 0 & 0\\\\0 & 0 & 1 & n\\\\0 & 0 & 0 & 1\\end{matrix}\\right]$"
      ],
      "text/plain": [
       "⎡cos(f)  -sin(f)  0  0⎤\n",
       "⎢                     ⎥\n",
       "⎢sin(f)  cos(f)   0  0⎥\n",
       "⎢                     ⎥\n",
       "⎢  0        0     1  n⎥\n",
       "⎢                     ⎥\n",
       "⎣  0        0     0  1⎦"
      ]
     },
     "execution_count": 11,
     "metadata": {},
     "output_type": "execute_result"
    }
   ],
   "source": [
    "#変換行列 A6 の指定（1.モーターによる回転成分 -> 2.機構に基づく並進成分 -> 3.機構に基づく座標系の回転）\n",
    "\n",
    "A6=rotz(f)*trans(0,0,n)\n",
    "sym.trigsimp(A6)"
   ]
  },
  {
   "cell_type": "code",
   "execution_count": 12,
   "metadata": {},
   "outputs": [
    {
     "data": {
      "text/latex": [
       "$\\displaystyle \\left[\\begin{matrix}\\left(\\left(\\sin{\\left(a \\right)} \\sin{\\left(d \\right)} - \\sin{\\left(b + c \\right)} \\cos{\\left(a \\right)} \\cos{\\left(d \\right)}\\right) \\cos{\\left(e \\right)} - \\sin{\\left(e \\right)} \\cos{\\left(a \\right)} \\cos{\\left(b + c \\right)}\\right) \\sin{\\left(f \\right)} - \\left(\\sin{\\left(a \\right)} \\cos{\\left(d \\right)} + \\sin{\\left(d \\right)} \\sin{\\left(b + c \\right)} \\cos{\\left(a \\right)}\\right) \\cos{\\left(f \\right)} & \\left(\\left(\\sin{\\left(a \\right)} \\sin{\\left(d \\right)} - \\sin{\\left(b + c \\right)} \\cos{\\left(a \\right)} \\cos{\\left(d \\right)}\\right) \\cos{\\left(e \\right)} - \\sin{\\left(e \\right)} \\cos{\\left(a \\right)} \\cos{\\left(b + c \\right)}\\right) \\cos{\\left(f \\right)} + \\left(\\sin{\\left(a \\right)} \\cos{\\left(d \\right)} + \\sin{\\left(d \\right)} \\sin{\\left(b + c \\right)} \\cos{\\left(a \\right)}\\right) \\sin{\\left(f \\right)} & \\left(\\sin{\\left(a \\right)} \\sin{\\left(d \\right)} - \\sin{\\left(b + c \\right)} \\cos{\\left(a \\right)} \\cos{\\left(d \\right)}\\right) \\sin{\\left(e \\right)} + \\cos{\\left(a \\right)} \\cos{\\left(e \\right)} \\cos{\\left(b + c \\right)} & g \\cos{\\left(a \\right)} - j \\sin{\\left(b \\right)} \\cos{\\left(a \\right)} - k \\sin{\\left(b + c \\right)} \\cos{\\left(a \\right)} + l \\cos{\\left(a \\right)} \\cos{\\left(b + c \\right)} + m \\sin{\\left(a \\right)} \\sin{\\left(d \\right)} \\sin{\\left(e \\right)} - m \\sin{\\left(e \\right)} \\sin{\\left(b + c \\right)} \\cos{\\left(a \\right)} \\cos{\\left(d \\right)} + m \\cos{\\left(a \\right)} \\cos{\\left(e \\right)} \\cos{\\left(b + c \\right)} + n \\sin{\\left(a \\right)} \\sin{\\left(d \\right)} \\sin{\\left(e \\right)} - n \\sin{\\left(e \\right)} \\sin{\\left(b + c \\right)} \\cos{\\left(a \\right)} \\cos{\\left(d \\right)} + n \\cos{\\left(a \\right)} \\cos{\\left(e \\right)} \\cos{\\left(b + c \\right)}\\\\\\left(- \\left(\\sin{\\left(a \\right)} \\sin{\\left(b + c \\right)} \\cos{\\left(d \\right)} + \\sin{\\left(d \\right)} \\cos{\\left(a \\right)}\\right) \\cos{\\left(e \\right)} - \\sin{\\left(a \\right)} \\sin{\\left(e \\right)} \\cos{\\left(b + c \\right)}\\right) \\sin{\\left(f \\right)} + \\left(- \\sin{\\left(a \\right)} \\sin{\\left(d \\right)} \\sin{\\left(b + c \\right)} + \\cos{\\left(a \\right)} \\cos{\\left(d \\right)}\\right) \\cos{\\left(f \\right)} & \\left(- \\left(\\sin{\\left(a \\right)} \\sin{\\left(b + c \\right)} \\cos{\\left(d \\right)} + \\sin{\\left(d \\right)} \\cos{\\left(a \\right)}\\right) \\cos{\\left(e \\right)} - \\sin{\\left(a \\right)} \\sin{\\left(e \\right)} \\cos{\\left(b + c \\right)}\\right) \\cos{\\left(f \\right)} - \\left(- \\sin{\\left(a \\right)} \\sin{\\left(d \\right)} \\sin{\\left(b + c \\right)} + \\cos{\\left(a \\right)} \\cos{\\left(d \\right)}\\right) \\sin{\\left(f \\right)} & - \\left(\\sin{\\left(a \\right)} \\sin{\\left(b + c \\right)} \\cos{\\left(d \\right)} + \\sin{\\left(d \\right)} \\cos{\\left(a \\right)}\\right) \\sin{\\left(e \\right)} + \\sin{\\left(a \\right)} \\cos{\\left(e \\right)} \\cos{\\left(b + c \\right)} & g \\sin{\\left(a \\right)} - j \\sin{\\left(a \\right)} \\sin{\\left(b \\right)} - k \\sin{\\left(a \\right)} \\sin{\\left(b + c \\right)} + l \\sin{\\left(a \\right)} \\cos{\\left(b + c \\right)} - m \\sin{\\left(a \\right)} \\sin{\\left(e \\right)} \\sin{\\left(b + c \\right)} \\cos{\\left(d \\right)} + m \\sin{\\left(a \\right)} \\cos{\\left(e \\right)} \\cos{\\left(b + c \\right)} - m \\sin{\\left(d \\right)} \\sin{\\left(e \\right)} \\cos{\\left(a \\right)} - n \\sin{\\left(a \\right)} \\sin{\\left(e \\right)} \\sin{\\left(b + c \\right)} \\cos{\\left(d \\right)} + n \\sin{\\left(a \\right)} \\cos{\\left(e \\right)} \\cos{\\left(b + c \\right)} - n \\sin{\\left(d \\right)} \\sin{\\left(e \\right)} \\cos{\\left(a \\right)}\\\\\\left(- \\sin{\\left(e \\right)} \\sin{\\left(b + c \\right)} + \\cos{\\left(d \\right)} \\cos{\\left(e \\right)} \\cos{\\left(b + c \\right)}\\right) \\sin{\\left(f \\right)} + \\sin{\\left(d \\right)} \\cos{\\left(f \\right)} \\cos{\\left(b + c \\right)} & \\left(- \\sin{\\left(e \\right)} \\sin{\\left(b + c \\right)} + \\cos{\\left(d \\right)} \\cos{\\left(e \\right)} \\cos{\\left(b + c \\right)}\\right) \\cos{\\left(f \\right)} - \\sin{\\left(d \\right)} \\sin{\\left(f \\right)} \\cos{\\left(b + c \\right)} & \\sin{\\left(e \\right)} \\cos{\\left(d \\right)} \\cos{\\left(b + c \\right)} + \\sin{\\left(b + c \\right)} \\cos{\\left(e \\right)} & h + j \\cos{\\left(b \\right)} + k \\cos{\\left(b + c \\right)} + l \\sin{\\left(b + c \\right)} + m \\sin{\\left(e \\right)} \\cos{\\left(d \\right)} \\cos{\\left(b + c \\right)} + m \\sin{\\left(b + c \\right)} \\cos{\\left(e \\right)} + n \\sin{\\left(e \\right)} \\cos{\\left(d \\right)} \\cos{\\left(b + c \\right)} + n \\sin{\\left(b + c \\right)} \\cos{\\left(e \\right)}\\\\0 & 0 & 0 & 1\\end{matrix}\\right]$"
      ],
      "text/plain": [
       "⎡ ((sin(a)⋅sin(d) - sin(b + c)⋅cos(a)⋅cos(d))⋅cos(e) - sin(e)⋅cos(a)⋅cos(b + c\n",
       "⎢                                                                             \n",
       "⎢(-(sin(a)⋅sin(b + c)⋅cos(d) + sin(d)⋅cos(a))⋅cos(e) - sin(a)⋅sin(e)⋅cos(b + c\n",
       "⎢                                                                             \n",
       "⎢                             (-sin(e)⋅sin(b + c) + cos(d)⋅cos(e)⋅cos(b + c))⋅\n",
       "⎢                                                                             \n",
       "⎣                                                                     0       \n",
       "\n",
       "))⋅sin(f) - (sin(a)⋅cos(d) + sin(d)⋅sin(b + c)⋅cos(a))⋅cos(f)    ((sin(a)⋅sin(\n",
       "                                                                              \n",
       "))⋅sin(f) + (-sin(a)⋅sin(d)⋅sin(b + c) + cos(a)⋅cos(d))⋅cos(f)  (-(sin(a)⋅sin(\n",
       "                                                                              \n",
       "sin(f) + sin(d)⋅cos(f)⋅cos(b + c)                                             \n",
       "                                                                              \n",
       "                                                                              \n",
       "\n",
       "d) - sin(b + c)⋅cos(a)⋅cos(d))⋅cos(e) - sin(e)⋅cos(a)⋅cos(b + c))⋅cos(f) + (si\n",
       "                                                                              \n",
       "b + c)⋅cos(d) + sin(d)⋅cos(a))⋅cos(e) - sin(a)⋅sin(e)⋅cos(b + c))⋅cos(f) - (-s\n",
       "                                                                              \n",
       "               (-sin(e)⋅sin(b + c) + cos(d)⋅cos(e)⋅cos(b + c))⋅cos(f) - sin(d)\n",
       "                                                                              \n",
       "                                                       0                      \n",
       "\n",
       "n(a)⋅cos(d) + sin(d)⋅sin(b + c)⋅cos(a))⋅sin(f)   (sin(a)⋅sin(d) - sin(b + c)⋅c\n",
       "                                                                              \n",
       "in(a)⋅sin(d)⋅sin(b + c) + cos(a)⋅cos(d))⋅sin(f)  -(sin(a)⋅sin(b + c)⋅cos(d) + \n",
       "                                                                              \n",
       "⋅sin(f)⋅cos(b + c)                                               sin(e)⋅cos(d)\n",
       "                                                                              \n",
       "                                                                              \n",
       "\n",
       "os(a)⋅cos(d))⋅sin(e) + cos(a)⋅cos(e)⋅cos(b + c)   g⋅cos(a) - j⋅sin(b)⋅cos(a) -\n",
       "                                                                              \n",
       "sin(d)⋅cos(a))⋅sin(e) + sin(a)⋅cos(e)⋅cos(b + c)  g⋅sin(a) - j⋅sin(a)⋅sin(b) -\n",
       "                                                                              \n",
       "⋅cos(b + c) + sin(b + c)⋅cos(e)                                               \n",
       "                                                                              \n",
       "         0                                                                    \n",
       "\n",
       " k⋅sin(b + c)⋅cos(a) + l⋅cos(a)⋅cos(b + c) + m⋅sin(a)⋅sin(d)⋅sin(e) - m⋅sin(e)\n",
       "                                                                              \n",
       " k⋅sin(a)⋅sin(b + c) + l⋅sin(a)⋅cos(b + c) - m⋅sin(a)⋅sin(e)⋅sin(b + c)⋅cos(d)\n",
       "                                                                              \n",
       "                         h + j⋅cos(b) + k⋅cos(b + c) + l⋅sin(b + c) + m⋅sin(e)\n",
       "                                                                              \n",
       "                                                                              \n",
       "\n",
       "⋅sin(b + c)⋅cos(a)⋅cos(d) + m⋅cos(a)⋅cos(e)⋅cos(b + c) + n⋅sin(a)⋅sin(d)⋅sin(e\n",
       "                                                                              \n",
       " + m⋅sin(a)⋅cos(e)⋅cos(b + c) - m⋅sin(d)⋅sin(e)⋅cos(a) - n⋅sin(a)⋅sin(e)⋅sin(b\n",
       "                                                                              \n",
       "⋅cos(d)⋅cos(b + c) + m⋅sin(b + c)⋅cos(e) + n⋅sin(e)⋅cos(d)⋅cos(b + c) + n⋅sin(\n",
       "                                                                              \n",
       "                  1                                                           \n",
       "\n",
       ") - n⋅sin(e)⋅sin(b + c)⋅cos(a)⋅cos(d) + n⋅cos(a)⋅cos(e)⋅cos(b + c)⎤\n",
       "                                                                  ⎥\n",
       " + c)⋅cos(d) + n⋅sin(a)⋅cos(e)⋅cos(b + c) - n⋅sin(d)⋅sin(e)⋅cos(a)⎥\n",
       "                                                                  ⎥\n",
       "b + c)⋅cos(e)                                                     ⎥\n",
       "                                                                  ⎥\n",
       "                                                                  ⎦"
      ]
     },
     "execution_count": 12,
     "metadata": {},
     "output_type": "execute_result"
    }
   ],
   "source": [
    "sym.trigsimp(A1*A2*A3*A4*A5*A6)"
   ]
  },
  {
   "cell_type": "code",
   "execution_count": 13,
   "metadata": {
    "scrolled": true
   },
   "outputs": [],
   "source": [
    "T5=A6\n",
    "T4=A5*A6\n",
    "T3=A4*A5*A6\n",
    "T2=A3*A4*A5*A6\n",
    "T1=A2*A3*A4*A5*A6\n",
    "T=A1*A2*A3*A4*A5*A6\n",
    "\n",
    "#x,y,zの順運動学が確認したければここを表示して，Tの４列目を確認\n",
    "#sym.trigsimp(T*trans(n,0,0))"
   ]
  },
  {
   "cell_type": "code",
   "execution_count": 14,
   "metadata": {},
   "outputs": [
    {
     "data": {
      "text/latex": [
       "$\\displaystyle \\left[\\begin{matrix}\\left(\\left(\\sin{\\left(a \\right)} \\sin{\\left(d \\right)} - \\sin{\\left(b + c \\right)} \\cos{\\left(a \\right)} \\cos{\\left(d \\right)}\\right) \\cos{\\left(e \\right)} - \\sin{\\left(e \\right)} \\cos{\\left(a \\right)} \\cos{\\left(b + c \\right)}\\right) \\sin{\\left(f \\right)} - \\left(\\sin{\\left(a \\right)} \\cos{\\left(d \\right)} + \\sin{\\left(d \\right)} \\sin{\\left(b + c \\right)} \\cos{\\left(a \\right)}\\right) \\cos{\\left(f \\right)} & \\left(\\left(\\sin{\\left(a \\right)} \\sin{\\left(d \\right)} - \\sin{\\left(b + c \\right)} \\cos{\\left(a \\right)} \\cos{\\left(d \\right)}\\right) \\cos{\\left(e \\right)} - \\sin{\\left(e \\right)} \\cos{\\left(a \\right)} \\cos{\\left(b + c \\right)}\\right) \\cos{\\left(f \\right)} + \\left(\\sin{\\left(a \\right)} \\cos{\\left(d \\right)} + \\sin{\\left(d \\right)} \\sin{\\left(b + c \\right)} \\cos{\\left(a \\right)}\\right) \\sin{\\left(f \\right)} & \\left(\\sin{\\left(a \\right)} \\sin{\\left(d \\right)} - \\sin{\\left(b + c \\right)} \\cos{\\left(a \\right)} \\cos{\\left(d \\right)}\\right) \\sin{\\left(e \\right)} + \\cos{\\left(a \\right)} \\cos{\\left(e \\right)} \\cos{\\left(b + c \\right)} & g \\cos{\\left(a \\right)} - j \\sin{\\left(b \\right)} \\cos{\\left(a \\right)} - k \\sin{\\left(b + c \\right)} \\cos{\\left(a \\right)} + l \\cos{\\left(a \\right)} \\cos{\\left(b + c \\right)} + m \\sin{\\left(a \\right)} \\sin{\\left(d \\right)} \\sin{\\left(e \\right)} - m \\sin{\\left(e \\right)} \\sin{\\left(b + c \\right)} \\cos{\\left(a \\right)} \\cos{\\left(d \\right)} + m \\cos{\\left(a \\right)} \\cos{\\left(e \\right)} \\cos{\\left(b + c \\right)} + n \\sin{\\left(a \\right)} \\sin{\\left(d \\right)} \\sin{\\left(e \\right)} - n \\sin{\\left(e \\right)} \\sin{\\left(b + c \\right)} \\cos{\\left(a \\right)} \\cos{\\left(d \\right)} + n \\cos{\\left(a \\right)} \\cos{\\left(e \\right)} \\cos{\\left(b + c \\right)}\\\\\\left(- \\left(\\sin{\\left(a \\right)} \\sin{\\left(b + c \\right)} \\cos{\\left(d \\right)} + \\sin{\\left(d \\right)} \\cos{\\left(a \\right)}\\right) \\cos{\\left(e \\right)} - \\sin{\\left(a \\right)} \\sin{\\left(e \\right)} \\cos{\\left(b + c \\right)}\\right) \\sin{\\left(f \\right)} + \\left(- \\sin{\\left(a \\right)} \\sin{\\left(d \\right)} \\sin{\\left(b + c \\right)} + \\cos{\\left(a \\right)} \\cos{\\left(d \\right)}\\right) \\cos{\\left(f \\right)} & \\left(- \\left(\\sin{\\left(a \\right)} \\sin{\\left(b + c \\right)} \\cos{\\left(d \\right)} + \\sin{\\left(d \\right)} \\cos{\\left(a \\right)}\\right) \\cos{\\left(e \\right)} - \\sin{\\left(a \\right)} \\sin{\\left(e \\right)} \\cos{\\left(b + c \\right)}\\right) \\cos{\\left(f \\right)} - \\left(- \\sin{\\left(a \\right)} \\sin{\\left(d \\right)} \\sin{\\left(b + c \\right)} + \\cos{\\left(a \\right)} \\cos{\\left(d \\right)}\\right) \\sin{\\left(f \\right)} & - \\left(\\sin{\\left(a \\right)} \\sin{\\left(b + c \\right)} \\cos{\\left(d \\right)} + \\sin{\\left(d \\right)} \\cos{\\left(a \\right)}\\right) \\sin{\\left(e \\right)} + \\sin{\\left(a \\right)} \\cos{\\left(e \\right)} \\cos{\\left(b + c \\right)} & g \\sin{\\left(a \\right)} - j \\sin{\\left(a \\right)} \\sin{\\left(b \\right)} - k \\sin{\\left(a \\right)} \\sin{\\left(b + c \\right)} + l \\sin{\\left(a \\right)} \\cos{\\left(b + c \\right)} - m \\sin{\\left(a \\right)} \\sin{\\left(e \\right)} \\sin{\\left(b + c \\right)} \\cos{\\left(d \\right)} + m \\sin{\\left(a \\right)} \\cos{\\left(e \\right)} \\cos{\\left(b + c \\right)} - m \\sin{\\left(d \\right)} \\sin{\\left(e \\right)} \\cos{\\left(a \\right)} - n \\sin{\\left(a \\right)} \\sin{\\left(e \\right)} \\sin{\\left(b + c \\right)} \\cos{\\left(d \\right)} + n \\sin{\\left(a \\right)} \\cos{\\left(e \\right)} \\cos{\\left(b + c \\right)} - n \\sin{\\left(d \\right)} \\sin{\\left(e \\right)} \\cos{\\left(a \\right)}\\\\\\left(- \\sin{\\left(e \\right)} \\sin{\\left(b + c \\right)} + \\cos{\\left(d \\right)} \\cos{\\left(e \\right)} \\cos{\\left(b + c \\right)}\\right) \\sin{\\left(f \\right)} + \\sin{\\left(d \\right)} \\cos{\\left(f \\right)} \\cos{\\left(b + c \\right)} & \\left(- \\sin{\\left(e \\right)} \\sin{\\left(b + c \\right)} + \\cos{\\left(d \\right)} \\cos{\\left(e \\right)} \\cos{\\left(b + c \\right)}\\right) \\cos{\\left(f \\right)} - \\sin{\\left(d \\right)} \\sin{\\left(f \\right)} \\cos{\\left(b + c \\right)} & \\sin{\\left(e \\right)} \\cos{\\left(d \\right)} \\cos{\\left(b + c \\right)} + \\sin{\\left(b + c \\right)} \\cos{\\left(e \\right)} & h + j \\cos{\\left(b \\right)} + k \\cos{\\left(b + c \\right)} + l \\sin{\\left(b + c \\right)} + m \\sin{\\left(e \\right)} \\cos{\\left(d \\right)} \\cos{\\left(b + c \\right)} + m \\sin{\\left(b + c \\right)} \\cos{\\left(e \\right)} + n \\sin{\\left(e \\right)} \\cos{\\left(d \\right)} \\cos{\\left(b + c \\right)} + n \\sin{\\left(b + c \\right)} \\cos{\\left(e \\right)}\\\\0 & 0 & 0 & 1\\end{matrix}\\right]$"
      ],
      "text/plain": [
       "⎡ ((sin(a)⋅sin(d) - sin(b + c)⋅cos(a)⋅cos(d))⋅cos(e) - sin(e)⋅cos(a)⋅cos(b + c\n",
       "⎢                                                                             \n",
       "⎢(-(sin(a)⋅sin(b + c)⋅cos(d) + sin(d)⋅cos(a))⋅cos(e) - sin(a)⋅sin(e)⋅cos(b + c\n",
       "⎢                                                                             \n",
       "⎢                             (-sin(e)⋅sin(b + c) + cos(d)⋅cos(e)⋅cos(b + c))⋅\n",
       "⎢                                                                             \n",
       "⎣                                                                     0       \n",
       "\n",
       "))⋅sin(f) - (sin(a)⋅cos(d) + sin(d)⋅sin(b + c)⋅cos(a))⋅cos(f)    ((sin(a)⋅sin(\n",
       "                                                                              \n",
       "))⋅sin(f) + (-sin(a)⋅sin(d)⋅sin(b + c) + cos(a)⋅cos(d))⋅cos(f)  (-(sin(a)⋅sin(\n",
       "                                                                              \n",
       "sin(f) + sin(d)⋅cos(f)⋅cos(b + c)                                             \n",
       "                                                                              \n",
       "                                                                              \n",
       "\n",
       "d) - sin(b + c)⋅cos(a)⋅cos(d))⋅cos(e) - sin(e)⋅cos(a)⋅cos(b + c))⋅cos(f) + (si\n",
       "                                                                              \n",
       "b + c)⋅cos(d) + sin(d)⋅cos(a))⋅cos(e) - sin(a)⋅sin(e)⋅cos(b + c))⋅cos(f) - (-s\n",
       "                                                                              \n",
       "               (-sin(e)⋅sin(b + c) + cos(d)⋅cos(e)⋅cos(b + c))⋅cos(f) - sin(d)\n",
       "                                                                              \n",
       "                                                       0                      \n",
       "\n",
       "n(a)⋅cos(d) + sin(d)⋅sin(b + c)⋅cos(a))⋅sin(f)   (sin(a)⋅sin(d) - sin(b + c)⋅c\n",
       "                                                                              \n",
       "in(a)⋅sin(d)⋅sin(b + c) + cos(a)⋅cos(d))⋅sin(f)  -(sin(a)⋅sin(b + c)⋅cos(d) + \n",
       "                                                                              \n",
       "⋅sin(f)⋅cos(b + c)                                               sin(e)⋅cos(d)\n",
       "                                                                              \n",
       "                                                                              \n",
       "\n",
       "os(a)⋅cos(d))⋅sin(e) + cos(a)⋅cos(e)⋅cos(b + c)   g⋅cos(a) - j⋅sin(b)⋅cos(a) -\n",
       "                                                                              \n",
       "sin(d)⋅cos(a))⋅sin(e) + sin(a)⋅cos(e)⋅cos(b + c)  g⋅sin(a) - j⋅sin(a)⋅sin(b) -\n",
       "                                                                              \n",
       "⋅cos(b + c) + sin(b + c)⋅cos(e)                                               \n",
       "                                                                              \n",
       "         0                                                                    \n",
       "\n",
       " k⋅sin(b + c)⋅cos(a) + l⋅cos(a)⋅cos(b + c) + m⋅sin(a)⋅sin(d)⋅sin(e) - m⋅sin(e)\n",
       "                                                                              \n",
       " k⋅sin(a)⋅sin(b + c) + l⋅sin(a)⋅cos(b + c) - m⋅sin(a)⋅sin(e)⋅sin(b + c)⋅cos(d)\n",
       "                                                                              \n",
       "                         h + j⋅cos(b) + k⋅cos(b + c) + l⋅sin(b + c) + m⋅sin(e)\n",
       "                                                                              \n",
       "                                                                              \n",
       "\n",
       "⋅sin(b + c)⋅cos(a)⋅cos(d) + m⋅cos(a)⋅cos(e)⋅cos(b + c) + n⋅sin(a)⋅sin(d)⋅sin(e\n",
       "                                                                              \n",
       " + m⋅sin(a)⋅cos(e)⋅cos(b + c) - m⋅sin(d)⋅sin(e)⋅cos(a) - n⋅sin(a)⋅sin(e)⋅sin(b\n",
       "                                                                              \n",
       "⋅cos(d)⋅cos(b + c) + m⋅sin(b + c)⋅cos(e) + n⋅sin(e)⋅cos(d)⋅cos(b + c) + n⋅sin(\n",
       "                                                                              \n",
       "                  1                                                           \n",
       "\n",
       ") - n⋅sin(e)⋅sin(b + c)⋅cos(a)⋅cos(d) + n⋅cos(a)⋅cos(e)⋅cos(b + c)⎤\n",
       "                                                                  ⎥\n",
       " + c)⋅cos(d) + n⋅sin(a)⋅cos(e)⋅cos(b + c) - n⋅sin(d)⋅sin(e)⋅cos(a)⎥\n",
       "                                                                  ⎥\n",
       "b + c)⋅cos(e)                                                     ⎥\n",
       "                                                                  ⎥\n",
       "                                                                  ⎦"
      ]
     },
     "execution_count": 14,
     "metadata": {},
     "output_type": "execute_result"
    }
   ],
   "source": [
    "sym.trigsimp(T)"
   ]
  },
  {
   "cell_type": "code",
   "execution_count": 15,
   "metadata": {},
   "outputs": [
    {
     "name": "stdout",
     "output_type": "stream",
     "text": [
      "Trans[0][0] = ((sin(a)*sin(d) - sin(b + c)*cos(a)*cos(d))*cos(e) - sin(e)*cos(a)*cos(b + c))*sin(f) - (sin(a)*cos(d) + sin(d)*sin(b + c)*cos(a))*cos(f);\n",
      "Trans[1][0] = (-(sin(a)*sin(b + c)*cos(d) + sin(d)*cos(a))*cos(e) - sin(a)*sin(e)*cos(b + c))*sin(f) + (-sin(a)*sin(d)*sin(b + c) + cos(a)*cos(d))*cos(f);\n",
      "Trans[2][0] = (-sin(e)*sin(b + c) + cos(d)*cos(e)*cos(b + c))*sin(f) + sin(d)*cos(f)*cos(b + c);\n",
      "Trans[3][0] = 0;\n",
      "\n",
      "Trans[0][1] = ((sin(a)*sin(d) - sin(b + c)*cos(a)*cos(d))*cos(e) - sin(e)*cos(a)*cos(b + c))*cos(f) + (sin(a)*cos(d) + sin(d)*sin(b + c)*cos(a))*sin(f);\n",
      "Trans[1][1] = (-(sin(a)*sin(b + c)*cos(d) + sin(d)*cos(a))*cos(e) - sin(a)*sin(e)*cos(b + c))*cos(f) - (-sin(a)*sin(d)*sin(b + c) + cos(a)*cos(d))*sin(f);\n",
      "Trans[2][1] = (-sin(e)*sin(b + c) + cos(d)*cos(e)*cos(b + c))*cos(f) - sin(d)*sin(f)*cos(b + c);\n",
      "Trans[3][1] = 0;\n",
      "\n",
      "Trans[0][2] = (sin(a)*sin(d) - sin(b + c)*cos(a)*cos(d))*sin(e) + cos(a)*cos(e)*cos(b + c);\n",
      "Trans[1][2] = -(sin(a)*sin(b + c)*cos(d) + sin(d)*cos(a))*sin(e) + sin(a)*cos(e)*cos(b + c);\n",
      "Trans[2][2] = sin(e)*cos(d)*cos(b + c) + sin(b + c)*cos(e);\n",
      "Trans[3][2] = 0;\n",
      "\n",
      "Trans[0][3] = g*cos(a) - j*sin(b)*cos(a) - k*sin(b + c)*cos(a) + l*cos(a)*cos(b + c) + m*sin(a)*sin(d)*sin(e) - m*sin(e)*sin(b + c)*cos(a)*cos(d) + m*cos(a)*cos(e)*cos(b + c) + n*sin(a)*sin(d)*sin(e) - n*sin(e)*sin(b + c)*cos(a)*cos(d) + n*cos(a)*cos(e)*cos(b + c);\n",
      "Trans[1][3] = g*sin(a) - j*sin(a)*sin(b) - k*sin(a)*sin(b + c) + l*sin(a)*cos(b + c) - m*sin(a)*sin(e)*sin(b + c)*cos(d) + m*sin(a)*cos(e)*cos(b + c) - m*sin(d)*sin(e)*cos(a) - n*sin(a)*sin(e)*sin(b + c)*cos(d) + n*sin(a)*cos(e)*cos(b + c) - n*sin(d)*sin(e)*cos(a);\n",
      "Trans[2][3] = h + j*cos(b) + k*cos(b + c) + l*sin(b + c) + m*sin(e)*cos(d)*cos(b + c) + m*sin(b + c)*cos(e) + n*sin(e)*cos(d)*cos(b + c) + n*sin(b + c)*cos(e);\n",
      "Trans[3][3] = 1;\n",
      "\n"
     ]
    }
   ],
   "source": [
    "# Masahiro Furukawa\n",
    "# Aug, 17, 2020\n",
    "#\n",
    "# refernce : https://qiita.com/JmpM/items/4bea4997aaf406cca3b4\n",
    "T=sym.trigsimp(T)\n",
    "for ii in range(4):\n",
    "    for jj in range(4):\n",
    "        idx = jj*4+ii\n",
    "        code = sym.ccode(T[idx],assign_to=('Trans['+str(jj)+']['+str(ii)+']'), standard='C89')\n",
    "        print(code)\n",
    "    print()"
   ]
  },
  {
   "cell_type": "code",
   "execution_count": 16,
   "metadata": {},
   "outputs": [],
   "source": [
    "A1inv=A1.inv()\n",
    "A2inv=A2.inv()\n",
    "A3inv=A3.inv()\n",
    "A4inv=A4.inv()\n",
    "A5inv=A5.inv()\n",
    "A6inv=A6.inv()"
   ]
  },
  {
   "cell_type": "code",
   "execution_count": 17,
   "metadata": {},
   "outputs": [
    {
     "data": {
      "text/latex": [
       "$\\displaystyle \\left[\\begin{matrix}\\cos{\\left(a \\right)} & 0 & \\sin{\\left(a \\right)} & g \\cos{\\left(a \\right)}\\\\\\sin{\\left(a \\right)} & 0 & - \\cos{\\left(a \\right)} & g \\sin{\\left(a \\right)}\\\\0 & 1 & 0 & h\\\\0 & 0 & 0 & 1\\end{matrix}\\right]$"
      ],
      "text/plain": [
       "⎡cos(a)  0  sin(a)   g⋅cos(a)⎤\n",
       "⎢                            ⎥\n",
       "⎢sin(a)  0  -cos(a)  g⋅sin(a)⎥\n",
       "⎢                            ⎥\n",
       "⎢  0     1     0        h    ⎥\n",
       "⎢                            ⎥\n",
       "⎣  0     0     0        1    ⎦"
      ]
     },
     "execution_count": 17,
     "metadata": {},
     "output_type": "execute_result"
    }
   ],
   "source": [
    "A1"
   ]
  },
  {
   "cell_type": "code",
   "execution_count": 18,
   "metadata": {},
   "outputs": [
    {
     "data": {
      "text/latex": [
       "$\\displaystyle \\left[\\begin{matrix}- \\frac{\\sin^{2}{\\left(a \\right)}}{\\cos{\\left(a \\right)}} + \\frac{1}{\\cos{\\left(a \\right)}} & \\sin{\\left(a \\right)} & 0 & - g\\\\0 & 0 & 1 & - h\\\\\\sin{\\left(a \\right)} & - \\cos{\\left(a \\right)} & 0 & 0\\\\0 & 0 & 0 & 1\\end{matrix}\\right]$"
      ],
      "text/plain": [
       "⎡     2                            ⎤\n",
       "⎢  sin (a)     1                   ⎥\n",
       "⎢- ─────── + ──────  sin(a)   0  -g⎥\n",
       "⎢   cos(a)   cos(a)                ⎥\n",
       "⎢                                  ⎥\n",
       "⎢        0              0     1  -h⎥\n",
       "⎢                                  ⎥\n",
       "⎢      sin(a)        -cos(a)  0  0 ⎥\n",
       "⎢                                  ⎥\n",
       "⎣        0              0     0  1 ⎦"
      ]
     },
     "execution_count": 18,
     "metadata": {},
     "output_type": "execute_result"
    }
   ],
   "source": [
    "A1inv"
   ]
  },
  {
   "cell_type": "code",
   "execution_count": 19,
   "metadata": {},
   "outputs": [
    {
     "data": {
      "text/latex": [
       "$\\displaystyle \\left[\\begin{matrix}\\left(- \\frac{\\sin^{2}{\\left(a \\right)}}{\\cos{\\left(a \\right)}} + \\frac{1}{\\cos{\\left(a \\right)}}\\right) \\cos{\\left(a \\right)} + \\sin^{2}{\\left(a \\right)} & 0 & \\left(- \\frac{\\sin^{2}{\\left(a \\right)}}{\\cos{\\left(a \\right)}} + \\frac{1}{\\cos{\\left(a \\right)}}\\right) \\sin{\\left(a \\right)} - \\sin{\\left(a \\right)} \\cos{\\left(a \\right)} & g \\left(- \\frac{\\sin^{2}{\\left(a \\right)}}{\\cos{\\left(a \\right)}} + \\frac{1}{\\cos{\\left(a \\right)}}\\right) \\cos{\\left(a \\right)} + g \\sin^{2}{\\left(a \\right)} - g\\\\0 & 1 & 0 & 0\\\\0 & 0 & \\sin^{2}{\\left(a \\right)} + \\cos^{2}{\\left(a \\right)} & 0\\\\0 & 0 & 0 & 1\\end{matrix}\\right]$"
      ],
      "text/plain": [
       "⎡⎛     2            ⎞                      ⎛     2            ⎞               \n",
       "⎢⎜  sin (a)     1   ⎟             2        ⎜  sin (a)     1   ⎟               \n",
       "⎢⎜- ─────── + ──────⎟⋅cos(a) + sin (a)  0  ⎜- ─────── + ──────⎟⋅sin(a) - sin(a\n",
       "⎢⎝   cos(a)   cos(a)⎠                      ⎝   cos(a)   cos(a)⎠               \n",
       "⎢                                                                             \n",
       "⎢                  0                    1                       0             \n",
       "⎢                                                                             \n",
       "⎢                                                          2         2        \n",
       "⎢                  0                    0               sin (a) + cos (a)     \n",
       "⎢                                                                             \n",
       "⎣                  0                    0                       0             \n",
       "\n",
       "            ⎛     2            ⎞                       ⎤\n",
       "            ⎜  sin (a)     1   ⎟               2       ⎥\n",
       ")⋅cos(a)  g⋅⎜- ─────── + ──────⎟⋅cos(a) + g⋅sin (a) - g⎥\n",
       "            ⎝   cos(a)   cos(a)⎠                       ⎥\n",
       "                                                       ⎥\n",
       "                                0                      ⎥\n",
       "                                                       ⎥\n",
       "                                                       ⎥\n",
       "                                0                      ⎥\n",
       "                                                       ⎥\n",
       "                                1                      ⎦"
      ]
     },
     "execution_count": 19,
     "metadata": {},
     "output_type": "execute_result"
    }
   ],
   "source": [
    "A1inv*A1"
   ]
  },
  {
   "cell_type": "code",
   "execution_count": 20,
   "metadata": {},
   "outputs": [
    {
     "data": {
      "text/latex": [
       "$\\displaystyle \\left[\\begin{matrix}n_{x} & o_{x} & a_{x} & p_{x}\\\\n_{y} & o_{y} & a_{y} & p_{y}\\\\n_{z} & o_{z} & a_{z} & p_{z}\\\\0 & 0 & 0 & 1\\end{matrix}\\right]$"
      ],
      "text/plain": [
       "⎡nₓ   oₓ   aₓ   pₓ ⎤\n",
       "⎢                  ⎥\n",
       "⎢n_y  o_y  a_y  p_y⎥\n",
       "⎢                  ⎥\n",
       "⎢n_z  o_z  a_z  p_z⎥\n",
       "⎢                  ⎥\n",
       "⎣ 0    0    0    1 ⎦"
      ]
     },
     "execution_count": 20,
     "metadata": {},
     "output_type": "execute_result"
    }
   ],
   "source": [
    "T=sym.Matrix([[n_x, o_x, a_x, p_x], [n_y, o_y, a_y, p_y], [n_z, o_z, a_z, p_z], [0, 0, 0, 1]])\n",
    "T"
   ]
  },
  {
   "cell_type": "code",
   "execution_count": 21,
   "metadata": {},
   "outputs": [
    {
     "ename": "NameError",
     "evalue": "name 'B1' is not defined",
     "output_type": "error",
     "traceback": [
      "\u001b[1;31m---------------------------------------------------------------------------\u001b[0m",
      "\u001b[1;31mNameError\u001b[0m                                 Traceback (most recent call last)",
      "\u001b[1;32m<ipython-input-21-85e6794630e6>\u001b[0m in \u001b[0;36m<module>\u001b[1;34m\u001b[0m\n\u001b[1;32m----> 1\u001b[1;33m \u001b[0mB1T\u001b[0m \u001b[1;33m=\u001b[0m \u001b[0mB1\u001b[0m\u001b[1;33m*\u001b[0m\u001b[0mT\u001b[0m\u001b[1;33m\u001b[0m\u001b[1;33m\u001b[0m\u001b[0m\n\u001b[0m\u001b[0;32m      2\u001b[0m \u001b[0mB1T\u001b[0m\u001b[1;33m\u001b[0m\u001b[1;33m\u001b[0m\u001b[0m\n",
      "\u001b[1;31mNameError\u001b[0m: name 'B1' is not defined"
     ]
    }
   ],
   "source": [
    "B1T = B1*T\n",
    "B1T"
   ]
  },
  {
   "cell_type": "markdown",
   "metadata": {},
   "source": [
    "# inverse kinematics"
   ]
  },
  {
   "cell_type": "code",
   "execution_count": null,
   "metadata": {},
   "outputs": [],
   "source": [
    "T1[10]"
   ]
  },
  {
   "cell_type": "code",
   "execution_count": null,
   "metadata": {},
   "outputs": [],
   "source": [
    "B1T[10]"
   ]
  },
  {
   "cell_type": "code",
   "execution_count": null,
   "metadata": {},
   "outputs": [],
   "source": [
    "T1[11]"
   ]
  },
  {
   "cell_type": "code",
   "execution_count": null,
   "metadata": {},
   "outputs": [],
   "source": [
    "B1T[11]"
   ]
  },
  {
   "cell_type": "code",
   "execution_count": null,
   "metadata": {},
   "outputs": [],
   "source": [
    "#逆行列確認\n",
    "#sym.trigsimp(A1*B1*A2*B2*A3*B3*A4*B4*A5*B5*A6*B6*A7*B7)"
   ]
  },
  {
   "cell_type": "code",
   "execution_count": null,
   "metadata": {},
   "outputs": [],
   "source": [
    "U1=sym.trigsimp(B1)\n",
    "U2=sym.trigsimp(B2*B1)\n",
    "U3=sym.trigsimp(B3*B2*B1)\n",
    "U4=sym.trigsimp(B4*B3*B2*B1)\n",
    "U5=sym.trigsimp(B5*B4*B3*B2*B1)"
   ]
  },
  {
   "cell_type": "code",
   "execution_count": null,
   "metadata": {},
   "outputs": [],
   "source": [
    "#T.subs([(a,0),(b,0),(c,0),(d,0),(e,0),(f,0)])"
   ]
  },
  {
   "cell_type": "code",
   "execution_count": null,
   "metadata": {},
   "outputs": [],
   "source": [
    "sym.trigsimp([U1,T1])"
   ]
  },
  {
   "cell_type": "code",
   "execution_count": null,
   "metadata": {},
   "outputs": [],
   "source": [
    "sym.trigsimp([U2,T2])"
   ]
  },
  {
   "cell_type": "code",
   "execution_count": null,
   "metadata": {},
   "outputs": [],
   "source": [
    "sym.trigsimp([U3,T3])"
   ]
  },
  {
   "cell_type": "code",
   "execution_count": null,
   "metadata": {},
   "outputs": [],
   "source": [
    "sym.trigsimp([U4,T4])"
   ]
  },
  {
   "cell_type": "code",
   "execution_count": null,
   "metadata": {},
   "outputs": [],
   "source": [
    "sym.trigsimp([U5,T5])"
   ]
  },
  {
   "cell_type": "code",
   "execution_count": null,
   "metadata": {},
   "outputs": [],
   "source": [
    "#x=T[0,3]\n",
    "#y=T[1,3]\n",
    "#z=T[2,3]"
   ]
  },
  {
   "cell_type": "code",
   "execution_count": null,
   "metadata": {},
   "outputs": [],
   "source": []
  }
 ],
 "metadata": {
  "kernelspec": {
   "display_name": "Python 3",
   "language": "python",
   "name": "python3"
  },
  "language_info": {
   "codemirror_mode": {
    "name": "ipython",
    "version": 3
   },
   "file_extension": ".py",
   "mimetype": "text/x-python",
   "name": "python",
   "nbconvert_exporter": "python",
   "pygments_lexer": "ipython3",
   "version": "3.7.6"
  }
 },
 "nbformat": 4,
 "nbformat_minor": 4
}
