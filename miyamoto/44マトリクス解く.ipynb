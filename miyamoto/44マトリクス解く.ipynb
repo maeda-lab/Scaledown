{
 "cells": [
  {
   "cell_type": "markdown",
   "metadata": {},
   "source": [
    "# ロボットマニピュレータの逆運動学を4×4マトリクスを用いて解く！！！"
   ]
  },
  {
   "cell_type": "code",
   "execution_count": 1,
   "metadata": {},
   "outputs": [],
   "source": [
    "#参考URL -> https://qiita.com/tibigame/items/61cecf86fc978628bfee\n",
    "#参考図書 -> ポールのロボット・マニピュレータ\n",
    "\n",
    "import numpy as np\n",
    "import sympy as sym\n",
    "sym.init_printing()\n",
    "Pi = sym.S.Pi # 円周率\n",
    "E = sym.S.Exp1 # 自然対数の底\n",
    "I = sym.S.ImaginaryUnit # 虚数単位\n",
    "\n",
    "#sympyの円周率の方を使うことをすすめる（こっちの方が量子化誤差が大きくなる．numpyも同様に大きい）\n",
    "import math\n",
    "pi = math.pi\n",
    "\n",
    "# 使用する変数の定義(小文字1文字は全てシンボルとする)\n",
    "(a,b,c,d,e,f,g,h,i,j,k,l,m,n,o,p,q,r,s,t,u,v,w,x,y,z) = sym.symbols('a b c d e f g h i j k l m n o p q r s t u v w x y z')\n",
    "#a～fは角度変数\n",
    "\n",
    "(n_x, n_y, n_z, o_x, o_y, o_z, a_x, a_y, a_z, p_x, p_y, p_z) = sym.symbols('n_x, n_y, n_z, o_x, o_y, o_z, a_x, a_y, a_z, p_x, p_y, p_z')\n"
   ]
  },
  {
   "cell_type": "code",
   "execution_count": 2,
   "metadata": {},
   "outputs": [],
   "source": [
    "#sin.cosの簡易記述用\n",
    "def S(a):\n",
    "    return sym.sin(a)\n",
    "\n",
    "def C(a):\n",
    "    return sym.cos(a)"
   ]
  },
  {
   "cell_type": "code",
   "execution_count": 3,
   "metadata": {},
   "outputs": [],
   "source": [
    "#回転・並進行列\n",
    "def rotx(a):\n",
    "    return sym.Matrix([[1, 0, 0, 0], [0, C(a), -S(a), 0], [0, S(a), C(a), 0], [0, 0, 0, 1]])\n",
    "\n",
    "def roty(a):\n",
    "    return sym.Matrix([[C(a), 0, S(a), 0], [0, 1, 0, 0], [-S(a), 0, C(a), 0], [0, 0, 0, 1]])\n",
    "\n",
    "def rotz(a):\n",
    "    return sym.Matrix([[C(a), -S(a), 0, 0], [S(a), C(a), 0, 0], [0, 0, 1, 0], [0, 0, 0, 1]])\n",
    "\n",
    "def trans(x, y, z):\n",
    "    return sym.Matrix([[1, 0, 0, x], [0, 1, 0, y], [0, 0, 1, z], [0, 0, 0, 1]])\n"
   ]
  },
  {
   "cell_type": "markdown",
   "metadata": {},
   "source": [
    "### DH法に基づく座標系間の関係表現\n",
    "\n",
    "|座標系 i|Z_i-1軸回りに角度θ_i|Z_i-1に沿って距離d_iだけ並進|回転後のX_i-1 (=X_i)に沿って長さa_iだけ並進|X_i軸周りにねじれ角α_iだけ回転|\n",
    "|-|-|-|-|-|\n",
    "|1|a|h|g|Pi/2|\n",
    "|2|b|0|0|0|(yにj)\n",
    "|3|c|0|-k|-Pi/2|(cの初期位置は-Pi/2)\n",
    "|4|d|l|0|Pi/2|\n",
    "|5|e|0|0|-Pi/2|(yにm)\n",
    "|6|f|n|0|0|\n",
    "\n",
    "座標系0→1：\n",
    "Z0軸方向にd1だけ平行移動してから、関節１の関節角度θ1だけ回転、a1=0、α1=0\n",
    "\n",
    "座標系1→2：\n",
    "X1軸方向にa2移動、関節２の角度θ2だけ回転、α2=0、d2=0\n",
    "\n",
    "座標系2→3：\n",
    "X2軸方向にa3移動、X2軸回りにα3=180度(π)回転、回転後のZ2軸方向(鉛直下向)にd3移動、θ3=0\n",
    "\n",
    "座標系3→4：\n",
    "Z0軸方向にd1だけ平行移動してから、関節１の関節角度θ1だけ回転、a1=0、α1=0\n",
    "\n",
    "座標系4→5：\n",
    "X1軸方向にa2移動、関節２の角度θ2だけ回転、α2=0、d2=0\n",
    "\n",
    "座標系5→6：\n",
    "X2軸方向にa3移動、X2軸回りにα3=180度(π)回転、回転後のZ2軸方向(鉛直下向)にd3移動、θ3=0"
   ]
  },
  {
   "cell_type": "code",
   "execution_count": null,
   "metadata": {},
   "outputs": [],
   "source": [
    "#変換行列の指定（1.モーターによる回転成分 -> 2.機構に基づく並進成分 -> 3.機構に基づく座標系の回転）\n",
    "\n",
    "A1=rotz(a)*trans(g,0,h)*rotx(Pi/2)\n",
    "sym.trigsimp(A1)"
   ]
  },
  {
   "cell_type": "code",
   "execution_count": null,
   "metadata": {},
   "outputs": [],
   "source": [
    "#変換行列の指定（1.モーターによる回転成分 -> 2.機構に基づく並進成分 -> 3.機構に基づく座標系の回転）\n",
    "\n",
    "A2=rotz(b)*trans(0,j,0)\n",
    "sym.trigsimp(A2)"
   ]
  },
  {
   "cell_type": "code",
   "execution_count": null,
   "metadata": {},
   "outputs": [],
   "source": [
    "#変換行列の指定（1.モーターによる回転成分 -> 2.機構に基づく並進成分 -> 3.機構に基づく座標系の回転）\n",
    "\n",
    "A3=rotz(c)*trans(0,k,0)*roty(Pi/2)\n",
    "sym.trigsimp(A3)"
   ]
  },
  {
   "cell_type": "code",
   "execution_count": null,
   "metadata": {},
   "outputs": [],
   "source": [
    "#変換行列の指定（1.モーターによる回転成分 -> 2.機構に基づく並進成分 -> 3.機構に基づく座標系の回転）\n",
    "\n",
    "A4=rotz(d)*trans(0,0,l)*roty(-Pi/2)\n",
    "sym.trigsimp(A4)"
   ]
  },
  {
   "cell_type": "code",
   "execution_count": null,
   "metadata": {},
   "outputs": [],
   "source": [
    "#変換行列の指定（1.モーターによる回転成分 -> 2.機構に基づく並進成分 -> 3.機構に基づく座標系の回転）\n",
    "\n",
    "A5=rotz(e)*trans(m,0,0)*roty(Pi/2)\n",
    "sym.trigsimp(A5)"
   ]
  },
  {
   "cell_type": "code",
   "execution_count": null,
   "metadata": {},
   "outputs": [],
   "source": [
    "#変換行列の指定（1.モーターによる回転成分 -> 2.機構に基づく並進成分 -> 3.機構に基づく座標系の回転）\n",
    "\n",
    "A6=rotz(f)*trans(0,0,n)\n",
    "sym.trigsimp(A6)"
   ]
  },
  {
   "cell_type": "code",
   "execution_count": null,
   "metadata": {},
   "outputs": [],
   "source": [
    "sym.trigsimp(A1*A2*A3*A4*A5*A6)"
   ]
  },
  {
   "cell_type": "code",
   "execution_count": null,
   "metadata": {
    "scrolled": true
   },
   "outputs": [],
   "source": [
    "T5=sym.trigsimp(A6)\n",
    "T4=sym.trigsimp(A5*A6)\n",
    "T3=sym.trigsimp(A4*A5*A6)\n",
    "T2=sym.trigsimp(A3*A4*A5*A6)\n",
    "T1=sym.trigsimp(A2*A3*A4*A5*A6)\n",
    "T=sym.trigsimp(A1*A2*A3*A4*A5*A6)\n",
    "\n",
    "#x,y,zの順運動学が確認したければここを表示して，Tの４列目を確認\n",
    "#sym.trigsimp(T*trans(n,0,0))"
   ]
  },
  {
   "cell_type": "code",
   "execution_count": null,
   "metadata": {},
   "outputs": [],
   "source": [
    "B1=A1.inv()\n",
    "B2=A2.inv()\n",
    "B3=A3.inv()\n",
    "B4=A4.inv()\n",
    "B5=A5.inv()\n",
    "B6=A6.inv()"
   ]
  },
  {
   "cell_type": "code",
   "execution_count": null,
   "metadata": {},
   "outputs": [],
   "source": [
    "#逆行列確認\n",
    "#sym.trigsimp(A1*B1*A2*B2*A3*B3*A4*B4*A5*B5*A6*B6*A7*B7)"
   ]
  },
  {
   "cell_type": "code",
   "execution_count": null,
   "metadata": {},
   "outputs": [],
   "source": [
    "U1=sym.trigsimp(B1)\n",
    "U2=sym.trigsimp(B2*B1)\n",
    "U3=sym.trigsimp(B3*B2*B1)\n",
    "U4=sym.trigsimp(B4*B3*B2*B1)\n",
    "U5=sym.trigsimp(B5*B4*B3*B2*B1)"
   ]
  },
  {
   "cell_type": "code",
   "execution_count": null,
   "metadata": {},
   "outputs": [],
   "source": [
    "#T.subs([(a,0),(b,0),(c,0),(d,0),(e,0),(f,0)])"
   ]
  },
  {
   "cell_type": "code",
   "execution_count": null,
   "metadata": {},
   "outputs": [],
   "source": [
    "#T=sym.Matrix([[n_x, o_x, a_x, p_x], [n_y, o_y, a_y, p_y], [n_z, o_z, a_z, p_z], [0, 0, 0, 1]])"
   ]
  },
  {
   "cell_type": "code",
   "execution_count": null,
   "metadata": {},
   "outputs": [],
   "source": [
    "sym.trigsimp([U1,T1])"
   ]
  },
  {
   "cell_type": "code",
   "execution_count": null,
   "metadata": {},
   "outputs": [],
   "source": [
    "sym.trigsimp([U2,T2])"
   ]
  },
  {
   "cell_type": "code",
   "execution_count": null,
   "metadata": {},
   "outputs": [],
   "source": [
    "sym.trigsimp([U3,T3])"
   ]
  },
  {
   "cell_type": "code",
   "execution_count": null,
   "metadata": {},
   "outputs": [],
   "source": [
    "sym.trigsimp([U4,T4])"
   ]
  },
  {
   "cell_type": "code",
   "execution_count": null,
   "metadata": {},
   "outputs": [],
   "source": [
    "sym.trigsimp([U5,T5])"
   ]
  },
  {
   "cell_type": "code",
   "execution_count": null,
   "metadata": {},
   "outputs": [],
   "source": [
    "#x=T[0,3]\n",
    "#y=T[1,3]\n",
    "#z=T[2,3]"
   ]
  },
  {
   "cell_type": "code",
   "execution_count": null,
   "metadata": {},
   "outputs": [],
   "source": []
  }
 ],
 "metadata": {
  "kernelspec": {
   "display_name": "Python 3",
   "language": "python",
   "name": "python3"
  },
  "language_info": {
   "codemirror_mode": {
    "name": "ipython",
    "version": 3
   },
   "file_extension": ".py",
   "mimetype": "text/x-python",
   "name": "python",
   "nbconvert_exporter": "python",
   "pygments_lexer": "ipython3",
   "version": "3.7.3"
  }
 },
 "nbformat": 4,
 "nbformat_minor": 4
}
